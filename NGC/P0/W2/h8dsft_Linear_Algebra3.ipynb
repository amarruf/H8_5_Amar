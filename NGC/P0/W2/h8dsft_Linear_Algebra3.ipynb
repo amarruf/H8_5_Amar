{
  "nbformat": 4,
  "nbformat_minor": 0,
  "metadata": {
    "colab": {
      "name": "h8dsft_Linear_Algebra3.ipynb",
      "provenance": [],
      "collapsed_sections": []
    },
    "kernelspec": {
      "name": "python3",
      "display_name": "Python 3"
    },
    "language_info": {
      "name": "python"
    }
  },
  "cells": [
    {
      "cell_type": "markdown",
      "metadata": {
        "id": "OHAQY7X4JtWL"
      },
      "source": [
        "#Problem 1"
      ]
    },
    {
      "cell_type": "code",
      "metadata": {
        "id": "cntK8EUEJSVx"
      },
      "source": [
        "import numpy as np"
      ],
      "execution_count": 1,
      "outputs": []
    },
    {
      "cell_type": "code",
      "metadata": {
        "colab": {
          "base_uri": "https://localhost:8080/"
        },
        "id": "tNhuoFwrKMcS",
        "outputId": "055bbcaa-d5d3-49ab-935e-bbad6037940f"
      },
      "source": [
        "arr = np.array([[1, -1], [6,4]])\n",
        "print(arr)"
      ],
      "execution_count": 4,
      "outputs": [
        {
          "output_type": "stream",
          "name": "stdout",
          "text": [
            "[[ 1 -1]\n",
            " [ 6  4]]\n"
          ]
        }
      ]
    },
    {
      "cell_type": "code",
      "metadata": {
        "id": "FCJgyr3tKdMd"
      },
      "source": [
        "#Untuk memecah antara nilai eigen dan vektor eigen\n",
        "eig_val, eig_vec = np.linalg.eig(arr)"
      ],
      "execution_count": 5,
      "outputs": []
    },
    {
      "cell_type": "code",
      "metadata": {
        "colab": {
          "base_uri": "https://localhost:8080/"
        },
        "id": "qTSNr7AOKrzw",
        "outputId": "79602f43-2aff-4fd5-c59c-da35bfd4c9b1"
      },
      "source": [
        "#Nilai eigen dari var arr\n",
        "print(eig_val)"
      ],
      "execution_count": 6,
      "outputs": [
        {
          "output_type": "stream",
          "name": "stdout",
          "text": [
            "[2.5+1.93649167j 2.5-1.93649167j]\n"
          ]
        }
      ]
    },
    {
      "cell_type": "code",
      "metadata": {
        "colab": {
          "base_uri": "https://localhost:8080/"
        },
        "id": "C1WDeWZeKxEs",
        "outputId": "5e9e0445-4b05-4603-9078-b58950582036"
      },
      "source": [
        "#Vektor eigen dari var arr\n",
        "print(eig_vec)"
      ],
      "execution_count": 7,
      "outputs": [
        {
          "output_type": "stream",
          "name": "stdout",
          "text": [
            "[[-0.23145502+0.29880715j -0.23145502-0.29880715j]\n",
            " [ 0.9258201 +0.j          0.9258201 -0.j        ]]\n"
          ]
        }
      ]
    },
    {
      "cell_type": "markdown",
      "metadata": {
        "id": "w4MQomuELL3S"
      },
      "source": [
        "#Jawaban\n",
        "Matrix ini: \n",
        "$$\n",
        "\\begin{bmatrix}\n",
        "    1\\\\\n",
        "    3\n",
        "\\end{bmatrix}\n",
        "$$ \n",
        "Bukanlah eigenvector dari :\n",
        "\n",
        "\\begin{bmatrix}\n",
        "    1 & -1\\\\\n",
        "    6 & 4\n",
        "\\end{bmatrix}"
      ]
    }
  ]
}