{
  "nbformat": 4,
  "nbformat_minor": 0,
  "metadata": {
    "colab": {
      "name": "h8dsft_Linear_Algebra2.ipynb",
      "provenance": [],
      "collapsed_sections": []
    },
    "kernelspec": {
      "name": "python3",
      "display_name": "Python 3"
    },
    "language_info": {
      "name": "python"
    }
  },
  "cells": [
    {
      "cell_type": "code",
      "metadata": {
        "id": "v70hYU70y0Hk"
      },
      "source": [
        "import numpy as np"
      ],
      "execution_count": 1,
      "outputs": []
    },
    {
      "cell_type": "markdown",
      "metadata": {
        "id": "z_KXRFm1zIU5"
      },
      "source": [
        "#Problem 1"
      ]
    },
    {
      "cell_type": "code",
      "metadata": {
        "id": "0c69-PnRzHX0"
      },
      "source": [
        "A =np.array([\n",
        "    [[[23,50], [7,12]],\n",
        "     [[75,21], [57,12]]],\n",
        "    [[[57,67], [99,43]],\n",
        "     [[87,26], [18,84]]]\n",
        "])"
      ],
      "execution_count": 30,
      "outputs": []
    },
    {
      "cell_type": "code",
      "metadata": {
        "colab": {
          "base_uri": "https://localhost:8080/"
        },
        "id": "EvHd8X0Y4sJ2",
        "outputId": "0ad6b044-967a-4753-a539-d8a3705d2620"
      },
      "source": [
        "print(A)"
      ],
      "execution_count": 31,
      "outputs": [
        {
          "output_type": "stream",
          "name": "stdout",
          "text": [
            "[[[[23 50]\n",
            "   [ 7 12]]\n",
            "\n",
            "  [[75 21]\n",
            "   [57 12]]]\n",
            "\n",
            "\n",
            " [[[57 67]\n",
            "   [99 43]]\n",
            "\n",
            "  [[87 26]\n",
            "   [18 84]]]]\n"
          ]
        }
      ]
    },
    {
      "cell_type": "markdown",
      "metadata": {
        "id": "4ILye3T2-MAX"
      },
      "source": [
        "#Problem 2"
      ]
    },
    {
      "cell_type": "code",
      "metadata": {
        "id": "Yhd0N7C9-Obe"
      },
      "source": [
        "A = np.array([\n",
        "              [23, 50, 19],\n",
        "              [7, 12, 109],\n",
        "              [57, 67, 98]\n",
        "])\n",
        "B= np.array([17, 22, 19])"
      ],
      "execution_count": 32,
      "outputs": []
    },
    {
      "cell_type": "code",
      "metadata": {
        "colab": {
          "base_uri": "https://localhost:8080/"
        },
        "id": "lR-lBCD2-gGP",
        "outputId": "b704c27f-e3c1-46d6-ddab-0ed7c63ada35"
      },
      "source": [
        "result = A.dot(B)\n",
        "result"
      ],
      "execution_count": 38,
      "outputs": [
        {
          "output_type": "execute_result",
          "data": {
            "text/plain": [
              "array([1852, 2454, 4305])"
            ]
          },
          "metadata": {},
          "execution_count": 38
        }
      ]
    },
    {
      "cell_type": "markdown",
      "metadata": {
        "id": "BCFqzZxaAVS6"
      },
      "source": [
        "#Problem 3"
      ]
    },
    {
      "cell_type": "code",
      "metadata": {
        "id": "ZRyfp-aOAXGY"
      },
      "source": [
        "A = np.array([\n",
        "              [23, 50, 19],\n",
        "              [7, 12, 109],\n",
        "              [57, 67, 98]\n",
        "])"
      ],
      "execution_count": 39,
      "outputs": []
    },
    {
      "cell_type": "code",
      "metadata": {
        "colab": {
          "base_uri": "https://localhost:8080/"
        },
        "id": "PXyRhTjMAhuY",
        "outputId": "c3c5682d-abf4-4d99-b8b1-02ba313c63b4"
      },
      "source": [
        "#Transpose\n",
        "A.T"
      ],
      "execution_count": 40,
      "outputs": [
        {
          "output_type": "execute_result",
          "data": {
            "text/plain": [
              "array([[ 23,   7,  57],\n",
              "       [ 50,  12,  67],\n",
              "       [ 19, 109,  98]])"
            ]
          },
          "metadata": {},
          "execution_count": 40
        }
      ]
    },
    {
      "cell_type": "code",
      "metadata": {
        "colab": {
          "base_uri": "https://localhost:8080/"
        },
        "id": "ImN-nZ7lAxkk",
        "outputId": "1fe772d4-c408-4076-8e40-1d87bb883744"
      },
      "source": [
        "#Determinan\n",
        "B = np.linalg.det(A)\n",
        "print(B)\n"
      ],
      "execution_count": 51,
      "outputs": [
        {
          "output_type": "stream",
          "name": "stdout",
          "text": [
            "131344.0000000002\n"
          ]
        }
      ]
    },
    {
      "cell_type": "code",
      "metadata": {
        "colab": {
          "base_uri": "https://localhost:8080/"
        },
        "id": "NpgPgEGDAwEV",
        "outputId": "3a7f8c56-0488-41cc-9a84-61d562af24a4"
      },
      "source": [
        "#Inverse\n",
        "C = np.linalg.inv(A)\n",
        "print(C)"
      ],
      "execution_count": 52,
      "outputs": [
        {
          "output_type": "stream",
          "name": "stdout",
          "text": [
            "[[-0.0466485  -0.02761451  0.03975819]\n",
            " [ 0.04208034  0.00891552 -0.01807467]\n",
            " [-0.00163692  0.0099662  -0.00056341]]\n"
          ]
        }
      ]
    }
  ]
}