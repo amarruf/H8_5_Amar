{
  "nbformat": 4,
  "nbformat_minor": 0,
  "metadata": {
    "colab": {
      "name": "h8dsft_Calculus1.ipynb",
      "provenance": [],
      "collapsed_sections": []
    },
    "kernelspec": {
      "name": "python3",
      "display_name": "Python 3"
    },
    "language_info": {
      "name": "python"
    }
  },
  "cells": [
    {
      "cell_type": "markdown",
      "metadata": {
        "id": "-ZWGHGxcN74g"
      },
      "source": [
        "#Problem 1"
      ]
    },
    {
      "cell_type": "markdown",
      "metadata": {
        "id": "SE9aPVKxOM2Y"
      },
      "source": [
        "Turunan fungsi dari  \n",
        "\n",
        "$y=x^2 + 2x + 1$ adalah $y' = 2x + 2$\n"
      ]
    },
    {
      "cell_type": "code",
      "metadata": {
        "id": "HwHMSKOBN4lj"
      },
      "source": [
        "import sympy as sy"
      ],
      "execution_count": 2,
      "outputs": []
    },
    {
      "cell_type": "code",
      "metadata": {
        "id": "5bwlhRSsPJ28"
      },
      "source": [
        "x = sy.Symbol('x', real=True)\n",
        "f1 = x**2 + 2*x + 1"
      ],
      "execution_count": 9,
      "outputs": []
    },
    {
      "cell_type": "code",
      "metadata": {
        "colab": {
          "base_uri": "https://localhost:8080/",
          "height": 39
        },
        "id": "_Wt4V8A9PXbV",
        "outputId": "8017a5f5-f30c-480f-a5d6-96d071ecf75f"
      },
      "source": [
        "f1.diff(x)"
      ],
      "execution_count": 10,
      "outputs": [
        {
          "output_type": "execute_result",
          "data": {
            "text/latex": "$\\displaystyle 2 x + 2$",
            "text/plain": [
              "2*x + 2"
            ]
          },
          "metadata": {},
          "execution_count": 10
        }
      ]
    },
    {
      "cell_type": "markdown",
      "metadata": {
        "id": "G0OIZ_4VPpJU"
      },
      "source": [
        "Turunan fungsi dari\n",
        "\n",
        "$y = 4x^3 - 3x^2 + 2x - 1$ adalah $y' = 12x^2 - 6x + 2$"
      ]
    },
    {
      "cell_type": "code",
      "metadata": {
        "id": "9oCf6IX6P-JA"
      },
      "source": [
        "f2 = 4*x**3 - 3*x**2 + 2*x - 1"
      ],
      "execution_count": 11,
      "outputs": []
    },
    {
      "cell_type": "code",
      "metadata": {
        "colab": {
          "base_uri": "https://localhost:8080/",
          "height": 39
        },
        "id": "ZC8DwViKQN-0",
        "outputId": "b5f84c8d-e057-4646-a3de-4f7bad34aae7"
      },
      "source": [
        "f2.diff(x)"
      ],
      "execution_count": 12,
      "outputs": [
        {
          "output_type": "execute_result",
          "data": {
            "text/latex": "$\\displaystyle 12 x^{2} - 6 x + 2$",
            "text/plain": [
              "12*x**2 - 6*x + 2"
            ]
          },
          "metadata": {},
          "execution_count": 12
        }
      ]
    }
  ]
}