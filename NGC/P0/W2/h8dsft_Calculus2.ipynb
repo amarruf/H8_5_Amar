{
  "nbformat": 4,
  "nbformat_minor": 0,
  "metadata": {
    "colab": {
      "name": "h8dsft_Calculus2.ipynb",
      "provenance": [],
      "collapsed_sections": []
    },
    "kernelspec": {
      "name": "python3",
      "display_name": "Python 3"
    },
    "language_info": {
      "name": "python"
    }
  },
  "cells": [
    {
      "cell_type": "markdown",
      "metadata": {
        "id": "PJ9XtyrzvylS"
      },
      "source": [
        "#Problem"
      ]
    },
    {
      "cell_type": "code",
      "metadata": {
        "id": "sWRjan7uRYmA"
      },
      "source": [
        "import sympy as sy"
      ],
      "execution_count": 4,
      "outputs": []
    },
    {
      "cell_type": "markdown",
      "metadata": {
        "id": "GRFAkEZhwZ-E"
      },
      "source": [
        "Integral dari $$\\int 3x^2 - 6x +3 dx$$\n",
        "\n",
        "adalah  $$x^3 - 3x^2 + 3x$$"
      ]
    },
    {
      "cell_type": "code",
      "metadata": {
        "id": "hiTmV8g9RmP6"
      },
      "source": [
        "x = sy.Symbol('x', real=True)"
      ],
      "execution_count": 5,
      "outputs": []
    },
    {
      "cell_type": "code",
      "metadata": {
        "colab": {
          "base_uri": "https://localhost:8080/",
          "height": 39
        },
        "id": "gaKzKMxwv8h7",
        "outputId": "fb272ce2-5ed9-43fb-d7b5-e5873005c760"
      },
      "source": [
        "f1= 3*x**2 - 6*x +3\n",
        "sy.integrate(f1)"
      ],
      "execution_count": 7,
      "outputs": [
        {
          "output_type": "execute_result",
          "data": {
            "text/latex": "$\\displaystyle x^{3} - 3 x^{2} + 3 x$",
            "text/plain": [
              "x**3 - 3*x**2 + 3*x"
            ]
          },
          "metadata": {},
          "execution_count": 7
        }
      ]
    },
    {
      "cell_type": "markdown",
      "metadata": {
        "id": "T2s4e9A5xNM7"
      },
      "source": [
        "Integral dari $$\\int 8x^3 - x^2 + 5x - 1$$\n",
        "\n",
        "adalah $$2x^4 - \\frac {x^3}{3} + \\frac {5x^2}{2} - x$$"
      ]
    },
    {
      "cell_type": "code",
      "metadata": {
        "colab": {
          "base_uri": "https://localhost:8080/",
          "height": 54
        },
        "id": "TCakKJ2DxYcr",
        "outputId": "d3aa8ad6-4bc2-4e23-ebea-ab252d5d5ead"
      },
      "source": [
        "f2 = 8*x**3 - x**2 + 5*x -1\n",
        "sy.integrate(f2)"
      ],
      "execution_count": 8,
      "outputs": [
        {
          "output_type": "execute_result",
          "data": {
            "text/latex": "$\\displaystyle 2 x^{4} - \\frac{x^{3}}{3} + \\frac{5 x^{2}}{2} - x$",
            "text/plain": [
              "2*x**4 - x**3/3 + 5*x**2/2 - x"
            ]
          },
          "metadata": {},
          "execution_count": 8
        }
      ]
    }
  ]
}