{
  "nbformat": 4,
  "nbformat_minor": 0,
  "metadata": {
    "colab": {
      "name": "h8dsft_converter.ipynb",
      "provenance": [],
      "collapsed_sections": []
    },
    "kernelspec": {
      "name": "python3",
      "display_name": "Python 3"
    },
    "language_info": {
      "name": "python"
    }
  },
  "cells": [
    {
      "cell_type": "markdown",
      "metadata": {
        "id": "rGsVjIq9NoBY"
      },
      "source": [
        "# Function for convert Kelvin to Celcius (vice versa)"
      ]
    },
    {
      "cell_type": "code",
      "metadata": {
        "id": "M2KU3VNLNh0B"
      },
      "source": [
        "def convert(temp, unit):\n",
        "  if unit == 'c':\n",
        "    return \"The temperature of {} \\N{DEGREE SIGN}C is {} \\N{DEGREE SIGN}K\".format(temp, round(temp +273.15, 2))\n",
        "  elif unit == 'k':\n",
        "    return \"The temperature of {} \\N{DEGREE SIGN}K is {} \\N{DEGREE SIGN}C\".format(temp, round(temp -273.15, 2))  \n",
        "  else:\n",
        "    return \"Unit is not recognized\""
      ],
      "execution_count": 18,
      "outputs": []
    },
    {
      "cell_type": "code",
      "metadata": {
        "colab": {
          "base_uri": "https://localhost:8080/"
        },
        "id": "MjJT_HdMPU8B",
        "outputId": "8e4f2d69-b2b3-4c24-eeaf-dd958bc34447"
      },
      "source": [
        "print(convert(35, 'c'))"
      ],
      "execution_count": 27,
      "outputs": [
        {
          "output_type": "stream",
          "name": "stdout",
          "text": [
            "The temperature of 35 °C is 308.15 °K\n"
          ]
        }
      ]
    },
    {
      "cell_type": "code",
      "metadata": {
        "colab": {
          "base_uri": "https://localhost:8080/"
        },
        "id": "nIavehh9OxAz",
        "outputId": "098d2706-a94f-4c1b-ee70-5bbba2df3d3b"
      },
      "source": [
        "print(convert(100, 'k'))"
      ],
      "execution_count": 20,
      "outputs": [
        {
          "output_type": "stream",
          "name": "stdout",
          "text": [
            "The temperature of 100 °K is -173.15 °C\n"
          ]
        }
      ]
    },
    {
      "cell_type": "code",
      "metadata": {
        "colab": {
          "base_uri": "https://localhost:8080/"
        },
        "id": "f98_UbVAQAdB",
        "outputId": "21c77a17-c27e-4fd9-d59e-28f3ddcbaaf3"
      },
      "source": [
        "print(convert(100,'a'))"
      ],
      "execution_count": 14,
      "outputs": [
        {
          "output_type": "stream",
          "name": "stdout",
          "text": [
            "Unit is not recognized\n"
          ]
        }
      ]
    },
    {
      "cell_type": "markdown",
      "metadata": {
        "id": "cDpIMhGNSXGt"
      },
      "source": [
        "#Function for convert to Fahrenheit"
      ]
    },
    {
      "cell_type": "code",
      "metadata": {
        "id": "Qo8xbtUUR9oH"
      },
      "source": [
        "def fah_converter(temp, unit):\n",
        "  if unit == 'c':\n",
        "    return \"The temperature of {} \\N{DEGREE SIGN}C is {} \\N{DEGREE SIGN}F\".format(temp, round((temp *9/5) + 32,2))\n",
        "  elif unit == 'k':\n",
        "    return \"The temperature of {} \\N{DEGREE SIGN}K is {} \\N{DEGREE SIGN}F\".format(temp, round((temp - 273.15) * 9/5 + 32, 2))  \n",
        "  else:\n",
        "    return \"Unit is not recognized\""
      ],
      "execution_count": 23,
      "outputs": []
    },
    {
      "cell_type": "code",
      "metadata": {
        "colab": {
          "base_uri": "https://localhost:8080/"
        },
        "id": "j66_ml67TKHe",
        "outputId": "48931e6d-1eef-4fc5-a665-399916f4ac98"
      },
      "source": [
        "#Celcius To Fahrenheit\n",
        "print(fah_converter(45, 'c'))"
      ],
      "execution_count": 25,
      "outputs": [
        {
          "output_type": "stream",
          "name": "stdout",
          "text": [
            "The temperature of 45 °C is 113.0 °F\n"
          ]
        }
      ]
    },
    {
      "cell_type": "code",
      "metadata": {
        "colab": {
          "base_uri": "https://localhost:8080/"
        },
        "id": "6AJ25gMtTeO5",
        "outputId": "093e6cc5-9ad0-410a-f0ea-8ce7f88d4241"
      },
      "source": [
        "#Kelvin To Fahrenheit\n",
        "print(fah_converter(130, 'k'))"
      ],
      "execution_count": 26,
      "outputs": [
        {
          "output_type": "stream",
          "name": "stdout",
          "text": [
            "The temperature of 130 °K is -225.67 °F\n"
          ]
        }
      ]
    },
    {
      "cell_type": "markdown",
      "metadata": {
        "id": "a-ub6hNxUGe-"
      },
      "source": [
        "#Function for convert from Fahrenheit"
      ]
    },
    {
      "cell_type": "code",
      "metadata": {
        "id": "rLRSyS8mUI1F"
      },
      "source": [
        "def from_fah(temp, unit):\n",
        "  if unit == 'c':\n",
        "    return \"The temperature of {} \\N{DEGREE SIGN}F is {} \\N{DEGREE SIGN}C\".format(temp, round((temp - 32)* 5/9,2))\n",
        "  elif unit == 'k':\n",
        "    return \"The temperature of {} \\N{DEGREE SIGN}F is {} \\N{DEGREE SIGN}K\".format(temp, round((temp - 32)* 5/9 + 273.15, 2))  \n",
        "  else:\n",
        "    return \"Unit is not recognized\""
      ],
      "execution_count": 28,
      "outputs": []
    },
    {
      "cell_type": "code",
      "metadata": {
        "colab": {
          "base_uri": "https://localhost:8080/"
        },
        "id": "ED6pCEB8UvVu",
        "outputId": "6c0ab609-b6db-4a3f-c5fc-ba1f143b6c6f"
      },
      "source": [
        "#Fahrenheit To Celcius\n",
        "print(from_fah(120, 'c'))"
      ],
      "execution_count": 29,
      "outputs": [
        {
          "output_type": "stream",
          "name": "stdout",
          "text": [
            "The temperature of 120 °F is 48.89 °C\n"
          ]
        }
      ]
    },
    {
      "cell_type": "code",
      "metadata": {
        "colab": {
          "base_uri": "https://localhost:8080/"
        },
        "id": "pGdCZDvlU4x6",
        "outputId": "426f3221-5362-441d-efe9-c0219ce7d4c4"
      },
      "source": [
        "#Fahrenheit To Kelvin\n",
        "print(from_fah(190, 'k'))"
      ],
      "execution_count": 30,
      "outputs": [
        {
          "output_type": "stream",
          "name": "stdout",
          "text": [
            "The temperature of 190 °F is 360.93 °K\n"
          ]
        }
      ]
    }
  ]
}